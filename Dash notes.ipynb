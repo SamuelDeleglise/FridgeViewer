{
 "cells": [
  {
   "cell_type": "markdown",
   "metadata": {},
   "source": [
    "# Dash plotly"
   ]
  },
  {
   "cell_type": "markdown",
   "metadata": {},
   "source": [
    "## Import"
   ]
  },
  {
   "cell_type": "code",
   "execution_count": 1,
   "metadata": {},
   "outputs": [],
   "source": [
    "import json\n",
    "from textwrap import dedent as d\n",
    "\n",
    "import dash\n",
    "import dash_core_components as dcc\n",
    "import dash_html_components as html\n",
    "from dash.dependencies import Input, Output\n",
    "\n",
    "# external style files\n",
    "external_stylesheets = ['https://codepen.io/chriddyp/pen/bWLwgP.css']\n",
    "\n",
    "app = dash.Dash(__name__, external_stylesheets=external_stylesheets)\n",
    "\n",
    "styles = {\n",
    "    'pre': {\n",
    "        'border': 'thin lightgrey solid',\n",
    "        'overflowX': 'scroll'\n",
    "    }\n",
    "}"
   ]
  },
  {
   "cell_type": "markdown",
   "metadata": {},
   "source": [
    "## Interactive \n",
    "\n",
    "`dash_core_components` library usually abbreviated as `dcc`\n",
    "\n",
    "- `Graph`  component\n",
    "  - `figure` argument\n",
    "  - `hoverData` attribute\n",
    "  - `clickData` attribute\n",
    "  - `selectedData` attribute\n",
    "  - `relayoutData` attribute\n",
    "  \n",
    "- `Dropdown` component \n",
    "  \n"
   ]
  },
  {
   "cell_type": "markdown",
   "metadata": {},
   "source": [
    "## Layout"
   ]
  },
  {
   "cell_type": "code",
   "execution_count": 3,
   "metadata": {},
   "outputs": [
    {
     "ename": "NameError",
     "evalue": "name 'df' is not defined",
     "output_type": "error",
     "traceback": [
      "\u001b[1;31m---------------------------------------------------------------------------\u001b[0m",
      "\u001b[1;31mNameError\u001b[0m                                 Traceback (most recent call last)",
      "\u001b[1;32m<ipython-input-3-016d0c00daa1>\u001b[0m in \u001b[0;36m<module>\u001b[1;34m()\u001b[0m\n\u001b[0;32m      6\u001b[0m         \u001b[0mid\u001b[0m \u001b[1;33m=\u001b[0m \u001b[1;34m'dropdown'\u001b[0m\u001b[1;33m,\u001b[0m\u001b[1;33m\u001b[0m\u001b[0m\n\u001b[0;32m      7\u001b[0m         \u001b[1;31m#construct a dropdown wiith the components in database\u001b[0m\u001b[1;33m\u001b[0m\u001b[1;33m\u001b[0m\u001b[0m\n\u001b[1;32m----> 8\u001b[1;33m         \u001b[0moptions\u001b[0m \u001b[1;33m=\u001b[0m \u001b[1;33m[\u001b[0m\u001b[1;33m{\u001b[0m\u001b[1;34m'label'\u001b[0m\u001b[1;33m:\u001b[0m \u001b[0mi\u001b[0m\u001b[1;33m,\u001b[0m \u001b[1;34m'value'\u001b[0m\u001b[1;33m:\u001b[0m \u001b[0mi\u001b[0m\u001b[1;33m}\u001b[0m \u001b[1;32mfor\u001b[0m \u001b[0mi\u001b[0m \u001b[1;32min\u001b[0m \u001b[0mdf\u001b[0m\u001b[1;33m[\u001b[0m\u001b[1;34m'c'\u001b[0m\u001b[1;33m]\u001b[0m\u001b[1;33m.\u001b[0m\u001b[0munique\u001b[0m\u001b[1;33m(\u001b[0m\u001b[1;33m)\u001b[0m\u001b[1;33m]\u001b[0m\u001b[1;33m,\u001b[0m\u001b[1;33m\u001b[0m\u001b[0m\n\u001b[0m\u001b[0;32m      9\u001b[0m         \u001b[0mvalue\u001b[0m \u001b[1;33m=\u001b[0m \u001b[1;34m'a'\u001b[0m\u001b[1;33m\u001b[0m\u001b[0m\n\u001b[0;32m     10\u001b[0m     ),\n",
      "\u001b[1;31mNameError\u001b[0m: name 'df' is not defined"
     ]
    }
   ],
   "source": [
    "app.layout = html.Div([\n",
    "    \n",
    "    # Dropdown\n",
    "    #should add in the app.layout = html.Div([]) config\n",
    "    dcc.Dropdown(\n",
    "        id = 'dropdown',\n",
    "        #construct a dropdown wiith the components in database\n",
    "        options = [{'label': i, 'value': i} for i in df['c'].unique()],\n",
    "        value = 'a'\n",
    "    ),\n",
    "    \n",
    "    \n",
    "    # Graph\n",
    "    dcc.Graph(\n",
    "        id = 'basic-interactions',\n",
    "        figure = {'data': [\n",
    "                {\n",
    "                    'x': [1, 2, 3, 4],\n",
    "                    'y': [4, 1, 3, 5],\n",
    "                    'text': ['a', 'b', 'c', 'd'],\n",
    "                    'customdata': ['c.a', 'c.b', 'c.c', 'c.d'],\n",
    "                    'name': 'Trace 1',\n",
    "                    'mode': 'markers',\n",
    "                    'marker': {'size': 12}\n",
    "                },\n",
    "                {\n",
    "                    'x': [1, 2, 3, 4],\n",
    "                    'y': [9, 4, 1, 4],\n",
    "                    'text': ['w', 'x', 'y', 'z'],\n",
    "                    'customdata': ['c.w', 'c.x', 'c.y', 'c.z'],\n",
    "                    'name': 'Trace 2',\n",
    "                    'mode': 'markers',\n",
    "                    'marker': {'size': 12}\n",
    "                }\n",
    "            ],\n",
    "            'layout': {\n",
    "                'clickmode': 'event+select'\n",
    "            }\n",
    "        }\n",
    "    ),\n",
    "    \n",
    "    # Html\n",
    "    html.Div(id='output'),\n",
    "    \n",
    "    # Html with two children components\n",
    "    html.Div(className='row', children=[\n",
    "        # first component\n",
    "        html.Div([\n",
    "            dcc.Markdown(d(\"\"\"\n",
    "                **Title**\n",
    "                Content\n",
    "            \"\"\")),\n",
    "            \n",
    "            html.Pre(id='hover-data', style=styles['pre'])\n",
    "        ], className='two columns'),\n",
    "\n",
    "        html.Div([\n",
    "            dcc.Markdown(d(\"\"\"\n",
    "                 **Title**\n",
    "                Content\n",
    "            \"\"\")),\n",
    "            html.Pre(id='click-data', style=styles['pre']),\n",
    "        ], className='two columns'),\n",
    "    ]),\n",
    "\n",
    "    # Table\n",
    "    html.Table(id='table'),\n",
    "    \n",
    "    # Hidden div inside the app that stores the intermediate value\n",
    "    html.Div(id='intermediate-value', style={'display': 'none'}) \n",
    "    \n",
    "])\n",
    "\n"
   ]
  },
  {
   "cell_type": "code",
   "execution_count": null,
   "metadata": {},
   "outputs": [],
   "source": [
    "@app.callback(Output('intermediate-value', 'children'), [Input('dropdown', 'value')])\n",
    "def clean_data(value):\n",
    "     # some expensive clean data step\n",
    "     cleaned_df = your_expensive_clean_or_compute_step(value)\n",
    "\n",
    "     # more generally, this line would be\n",
    "     # json.dumps(cleaned_df)\n",
    "     return cleaned_df.to_json(date_format='iso', orient='split')\n",
    "\n",
    "@app.callback(Output('graph', 'figure'), [Input('intermediate-value', 'children')])\n",
    "def update_graph(jsonified_cleaned_data):\n",
    "\n",
    "    # more generally, this line would be\n",
    "    # json.loads(jsonified_cleaned_data)\n",
    "    dff = pd.read_json(jsonified_cleaned_data, orient='split')\n",
    "\n",
    "    figure = create_figure(dff)\n",
    "    return figure\n",
    "\n",
    "@app.callback(Output('table', 'children'), [Input('intermediate-value', 'children')])\n",
    "def update_table(jsonified_cleaned_data):\n",
    "    dff = pd.read_json(jsonified_cleaned_data, orient='split')\n",
    "    table = create_table(dff)\n",
    "    return table"
   ]
  }
 ],
 "metadata": {
  "kernelspec": {
   "display_name": "Python 3",
   "language": "python",
   "name": "python3"
  },
  "language_info": {
   "codemirror_mode": {
    "name": "ipython",
    "version": 3
   },
   "file_extension": ".py",
   "mimetype": "text/x-python",
   "name": "python",
   "nbconvert_exporter": "python",
   "pygments_lexer": "ipython3",
   "version": "3.7.0"
  }
 },
 "nbformat": 4,
 "nbformat_minor": 2
}
